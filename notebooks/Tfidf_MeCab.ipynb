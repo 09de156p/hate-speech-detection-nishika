{
 "cells": [
  {
   "cell_type": "markdown",
   "id": "a5c1f5f9-db14-40f3-ba22-d63588b9b8e2",
   "metadata": {},
   "source": [
    "# Tfidfの実装\n",
    "- 古典的な手法で分類"
   ]
  },
  {
   "cell_type": "markdown",
   "id": "de2eba31-96a8-4d98-9e99-93ebd1afb157",
   "metadata": {},
   "source": [
    "# ライブラリの読み込み"
   ]
  },
  {
   "cell_type": "code",
   "execution_count": 1,
   "id": "52ddef52-423b-47da-b35a-7cb767614bb1",
   "metadata": {},
   "outputs": [],
   "source": [
    "import pandas as pd\n",
    "import matplotlib.pyplot as plt\n",
    "import japanize_matplotlib\n",
    "import seaborn as sns\n",
    "from sklearn.feature_extraction.text import TfidfVectorizer\n",
    "from sklearn.model_selection import train_test_split\n",
    "from sklearn.ensemble import RandomForestClassifier\n",
    "from sklearn.naive_bayes import MultinomialNB\n",
    "from sklearn.metrics import accuracy_score, precision_score, recall_score, f1_score\n",
    "\n",
    "from scikitplot.metrics import plot_confusion_matrix, plot_roc\n",
    "\n",
    "import MeCab\n",
    "\n",
    "import re"
   ]
  },
  {
   "cell_type": "markdown",
   "id": "b55efb1b-cdb1-4c3c-b652-2264f56b353b",
   "metadata": {},
   "source": [
    "# データの読み込み"
   ]
  },
  {
   "cell_type": "code",
   "execution_count": 2,
   "id": "cddbce32-8ec0-42bc-b06c-40d39813e513",
   "metadata": {},
   "outputs": [],
   "source": [
    "DATA_DIR = \"../data/\"\n",
    "\n",
    "train_raw = pd.read_csv(f\"{DATA_DIR}raw/train.csv\")\n",
    "test_raw = pd.read_csv(f\"{DATA_DIR}raw/test.csv\")\n",
    "\n",
    "train = train_raw.copy()\n",
    "test = test_raw.copy()"
   ]
  },
  {
   "cell_type": "markdown",
   "id": "7f0258c8-d666-40e7-b7a2-3302e1306093",
   "metadata": {},
   "source": [
    "# 改行文字等削除"
   ]
  },
  {
   "cell_type": "code",
   "execution_count": 3,
   "id": "eddb4b26-dbd2-448d-a5ab-fabefc69b94d",
   "metadata": {},
   "outputs": [],
   "source": [
    "def clean_text(text):\n",
    "    new_text = []\n",
    "\n",
    "    for line in text:\n",
    "        # 半角全角英数字除去\n",
    "        line = re.sub(r'[0-9０-９a-zA-Zａ-ｚＡ-Ｚ]+', \" \", line)\n",
    "        # 記号もろもろ除去\n",
    "        line = re.sub(r'[\\．_－―─！＠＃＄％＾＆\\-‐|\\\\＊\\“（）＿■×+α※÷⇒—●★☆〇◎◆▼◇△□(：〜～＋=)／*&^%$#@!~`){}［］…\\[\\]\\\"\\'\\”\\’:;<>?＜＞〔〕〈〉？、。・,\\./『』【】「」→←○《》≪≫\\n\\u3000]+', \"\", line)\n",
    "        \n",
    "        line = line.strip(\"\\n\")\n",
    "        line = line.replace(\"\\n\", \"\")\n",
    "        line = line.rstrip(\"\\u3000\")\n",
    "        line = line.replace(\"\\u3000\", \"\")\n",
    "\n",
    "        new_text.append(line)\n",
    "    new_text = \"\".join(new_text)\n",
    "    return new_text"
   ]
  },
  {
   "cell_type": "code",
   "execution_count": 4,
   "id": "e126ad9d-639d-4bce-9f33-086383592232",
   "metadata": {},
   "outputs": [],
   "source": [
    "train[\"text\"] = train[\"text\"].apply(clean_text)"
   ]
  },
  {
   "cell_type": "code",
   "execution_count": 5,
   "id": "39a563b4-d8c8-4289-b9c9-85f75a08a958",
   "metadata": {
    "tags": []
   },
   "outputs": [],
   "source": [
    "def add_char_num(text):\n",
    "    char_num = []\n",
    "\n",
    "    for line in text:\n",
    "        char_num.append(len(line))\n",
    "    return char_num\n",
    "\n",
    "train[\"char_num\"] = add_char_num(train[\"text\"])"
   ]
  },
  {
   "cell_type": "markdown",
   "id": "16375f61-109c-4257-baab-048bc15a2305",
   "metadata": {},
   "source": [
    "# 分かち書き（MeCab）"
   ]
  },
  {
   "cell_type": "code",
   "execution_count": 6,
   "id": "03333242-fe2e-4901-88a6-1d1086f31409",
   "metadata": {},
   "outputs": [
    {
     "data": {
      "text/html": [
       "<div>\n",
       "<style scoped>\n",
       "    .dataframe tbody tr th:only-of-type {\n",
       "        vertical-align: middle;\n",
       "    }\n",
       "\n",
       "    .dataframe tbody tr th {\n",
       "        vertical-align: top;\n",
       "    }\n",
       "\n",
       "    .dataframe thead th {\n",
       "        text-align: right;\n",
       "    }\n",
       "</style>\n",
       "<table border=\"1\" class=\"dataframe\">\n",
       "  <thead>\n",
       "    <tr style=\"text-align: right;\">\n",
       "      <th></th>\n",
       "      <th>id</th>\n",
       "      <th>source</th>\n",
       "      <th>text</th>\n",
       "      <th>label</th>\n",
       "      <th>char_num</th>\n",
       "      <th>text_owakati</th>\n",
       "      <th>word_num</th>\n",
       "    </tr>\n",
       "  </thead>\n",
       "  <tbody>\n",
       "    <tr>\n",
       "      <th>0</th>\n",
       "      <td>80074aa43</td>\n",
       "      <td>news4vip</td>\n",
       "      <td>まともに相手されてない人との関係なんてそんな大事にするものか</td>\n",
       "      <td>0</td>\n",
       "      <td>30</td>\n",
       "      <td>まとも に 相手 さ れ て ない 人 と の 関係 なんて そんな 大事 に する もの か</td>\n",
       "      <td>18</td>\n",
       "    </tr>\n",
       "    <tr>\n",
       "      <th>1</th>\n",
       "      <td>6378fea6b</td>\n",
       "      <td>livejupiter</td>\n",
       "      <td>最近はアヘアヘ  マンやない ｲｲ∀   ｲｸﾅｲ</td>\n",
       "      <td>0</td>\n",
       "      <td>25</td>\n",
       "      <td>最近 は アヘアヘ マン や ない   ｲｲ ∀ ｲｸﾅｲ</td>\n",
       "      <td>9</td>\n",
       "    </tr>\n",
       "    <tr>\n",
       "      <th>2</th>\n",
       "      <td>c535f5613</td>\n",
       "      <td>livejupiter</td>\n",
       "      <td>日本人として生まれても無能な低学歴って分かったら日本人の権利剥奪して追放すべきやろ甘えるな</td>\n",
       "      <td>1</td>\n",
       "      <td>45</td>\n",
       "      <td>日本 人 と し て 生まれ て も 無能 な 低 学歴 って 分かっ たら 日本 人 の ...</td>\n",
       "      <td>28</td>\n",
       "    </tr>\n",
       "    <tr>\n",
       "      <th>3</th>\n",
       "      <td>e76638295</td>\n",
       "      <td>livejupiter</td>\n",
       "      <td>よくよく思えば川上は配布にしたらとんでもなく有能だよなガチャから引いたら圧倒的歓喜レベルやで</td>\n",
       "      <td>0</td>\n",
       "      <td>46</td>\n",
       "      <td>よくよく 思え ば 川上 は 配布 に し たら とんでも なく 有能 だ よ な ガチャ ...</td>\n",
       "      <td>25</td>\n",
       "    </tr>\n",
       "    <tr>\n",
       "      <th>4</th>\n",
       "      <td>51e4036bf</td>\n",
       "      <td>newsplus</td>\n",
       "      <td>押井は原作レイプの専門家だから原作マンガの真意を誤解させることに関してはプロだがそれ以外には...</td>\n",
       "      <td>0</td>\n",
       "      <td>54</td>\n",
       "      <td>押井 は 原作 レイプ の 専門 家 だ から 原作 マンガ の 真意 を 誤解 さ せる ...</td>\n",
       "      <td>34</td>\n",
       "    </tr>\n",
       "  </tbody>\n",
       "</table>\n",
       "</div>"
      ],
      "text/plain": [
       "          id       source                                               text  \\\n",
       "0  80074aa43     news4vip                     まともに相手されてない人との関係なんてそんな大事にするものか   \n",
       "1  6378fea6b  livejupiter                          最近はアヘアヘ  マンやない ｲｲ∀   ｲｸﾅｲ   \n",
       "2  c535f5613  livejupiter      日本人として生まれても無能な低学歴って分かったら日本人の権利剥奪して追放すべきやろ甘えるな   \n",
       "3  e76638295  livejupiter     よくよく思えば川上は配布にしたらとんでもなく有能だよなガチャから引いたら圧倒的歓喜レベルやで   \n",
       "4  51e4036bf     newsplus  押井は原作レイプの専門家だから原作マンガの真意を誤解させることに関してはプロだがそれ以外には...   \n",
       "\n",
       "   label  char_num                                       text_owakati  \\\n",
       "0      0        30   まとも に 相手 さ れ て ない 人 と の 関係 なんて そんな 大事 に する もの か    \n",
       "1      0        25                     最近 は アヘアヘ マン や ない   ｲｲ ∀ ｲｸﾅｲ    \n",
       "2      1        45  日本 人 と し て 生まれ て も 無能 な 低 学歴 って 分かっ たら 日本 人 の ...   \n",
       "3      0        46  よくよく 思え ば 川上 は 配布 に し たら とんでも なく 有能 だ よ な ガチャ ...   \n",
       "4      0        54  押井 は 原作 レイプ の 専門 家 だ から 原作 マンガ の 真意 を 誤解 さ せる ...   \n",
       "\n",
       "   word_num  \n",
       "0        18  \n",
       "1         9  \n",
       "2        28  \n",
       "3        25  \n",
       "4        34  "
      ]
     },
     "execution_count": 6,
     "metadata": {},
     "output_type": "execute_result"
    }
   ],
   "source": [
    "m = MeCab.Tagger(\"-Owakati\")\n",
    "\n",
    "text_owakati = []\n",
    "for line in train[\"text\"]:\n",
    "    splited_line = m.parse(line)    \n",
    "    \n",
    "    # 改行文字削除\n",
    "    splited_line = splited_line.replace(\"\\n\", \"\")\n",
    "    \n",
    "    text_owakati.append(splited_line)\n",
    "\n",
    "train[\"text_owakati\"] = text_owakati\n",
    "train[\"word_num\"] = train[\"text_owakati\"].apply(lambda x: len(x.split()))\n",
    "\n",
    "train.head()"
   ]
  },
  {
   "cell_type": "markdown",
   "id": "8ee29d4c-72e9-4019-bbc4-f37018a1c4c6",
   "metadata": {},
   "source": [
    "# ベクトル化"
   ]
  },
  {
   "cell_type": "code",
   "execution_count": 7,
   "id": "5542cd1e-9dc1-43e2-b7e9-4e6ef0313889",
   "metadata": {},
   "outputs": [],
   "source": [
    "X = train[\"text\"]\n",
    "y = train['label'].values"
   ]
  },
  {
   "cell_type": "code",
   "execution_count": 8,
   "id": "80424678-2cd5-4f0c-a37d-b17efd9c60f9",
   "metadata": {},
   "outputs": [],
   "source": [
    "X_train, X_test, y_train, y_test = train_test_split(X, y, test_size= 0.2, random_state= 42)"
   ]
  },
  {
   "cell_type": "code",
   "execution_count": 9,
   "id": "16f7f6ed-f8d9-4019-a646-4d2c9df097da",
   "metadata": {},
   "outputs": [],
   "source": [
    "def tokenize(text):\n",
    "    \"\"\" MeCab で分かち書きした結果をトークンとして返す \"\"\"\n",
    "    wakati = MeCab.Tagger(\"-O wakati\")\n",
    "    return wakati.parse(text)"
   ]
  },
  {
   "cell_type": "code",
   "execution_count": 10,
   "id": "6c20eaf4-d967-48d9-9c00-6fa68332ca12",
   "metadata": {},
   "outputs": [],
   "source": [
    "vectorizer = TfidfVectorizer(tokenizer=tokenize)\n",
    "X_train = vectorizer.fit_transform(X_train)"
   ]
  },
  {
   "cell_type": "markdown",
   "id": "424ff785-ee11-40e0-be87-0902ee8a81e8",
   "metadata": {},
   "source": [
    "# ナイーブベイズ"
   ]
  },
  {
   "cell_type": "code",
   "execution_count": 11,
   "id": "f9cf5c92-a9af-48b2-9c67-c95b0051d42c",
   "metadata": {},
   "outputs": [],
   "source": [
    "clf = MultinomialNB()\n",
    "clf.fit(X_train, y_train)\n",
    "\n",
    "X_test = vectorizer.transform(X_test)"
   ]
  },
  {
   "cell_type": "code",
   "execution_count": 12,
   "id": "7fed3a96-9de8-4df4-840e-f47ed28dba28",
   "metadata": {},
   "outputs": [
    {
     "name": "stdout",
     "output_type": "stream",
     "text": [
      "0.9405328258801142\n",
      "0.9467680608365019\n"
     ]
    }
   ],
   "source": [
    "print(clf.score(X_train, y_train)) \n",
    "print(clf.score(X_test, y_test)) "
   ]
  }
 ],
 "metadata": {
  "kernelspec": {
   "display_name": "Python 3 (ipykernel)",
   "language": "python",
   "name": "python3"
  },
  "language_info": {
   "codemirror_mode": {
    "name": "ipython",
    "version": 3
   },
   "file_extension": ".py",
   "mimetype": "text/x-python",
   "name": "python",
   "nbconvert_exporter": "python",
   "pygments_lexer": "ipython3",
   "version": "3.9.13"
  }
 },
 "nbformat": 4,
 "nbformat_minor": 5
}
