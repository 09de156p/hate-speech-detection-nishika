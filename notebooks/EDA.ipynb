{
 "cells": [
  {
   "cell_type": "markdown",
   "id": "a5c1f5f9-db14-40f3-ba22-d63588b9b8e2",
   "metadata": {},
   "source": [
    "# EDA\n",
    "- データの特徴などを確認"
   ]
  },
  {
   "cell_type": "markdown",
   "id": "de2eba31-96a8-4d98-9e99-93ebd1afb157",
   "metadata": {},
   "source": [
    "# ライブラリの読み込み"
   ]
  },
  {
   "cell_type": "code",
   "execution_count": 1,
   "id": "52ddef52-423b-47da-b35a-7cb767614bb1",
   "metadata": {},
   "outputs": [],
   "source": [
    "import pandas as pd\n",
    "import numpy as np\n",
    "import matplotlib.pyplot as plt\n",
    "import japanize_matplotlib\n",
    "import seaborn as sns\n",
    "from collections import Counter\n",
    "import ipadic\n",
    "\n",
    "import MeCab\n",
    "import spacy\n",
    "\n",
    "import re"
   ]
  },
  {
   "cell_type": "markdown",
   "id": "b55efb1b-cdb1-4c3c-b652-2264f56b353b",
   "metadata": {},
   "source": [
    "# データの読み込み"
   ]
  },
  {
   "cell_type": "code",
   "execution_count": 2,
   "id": "4de9123a-71ec-47c2-a020-c9113c4acabc",
   "metadata": {},
   "outputs": [
    {
     "data": {
      "text/html": [
       "<div>\n",
       "<style scoped>\n",
       "    .dataframe tbody tr th:only-of-type {\n",
       "        vertical-align: middle;\n",
       "    }\n",
       "\n",
       "    .dataframe tbody tr th {\n",
       "        vertical-align: top;\n",
       "    }\n",
       "\n",
       "    .dataframe thead th {\n",
       "        text-align: right;\n",
       "    }\n",
       "</style>\n",
       "<table border=\"1\" class=\"dataframe\">\n",
       "  <thead>\n",
       "    <tr style=\"text-align: right;\">\n",
       "      <th></th>\n",
       "      <th>id</th>\n",
       "      <th>source</th>\n",
       "      <th>text</th>\n",
       "      <th>label</th>\n",
       "    </tr>\n",
       "  </thead>\n",
       "  <tbody>\n",
       "    <tr>\n",
       "      <th>0</th>\n",
       "      <td>80074aa43</td>\n",
       "      <td>news4vip</td>\n",
       "      <td>まともに相手されてない人との関係なんて\\nそんな大事にするものか？</td>\n",
       "      <td>0</td>\n",
       "    </tr>\n",
       "    <tr>\n",
       "      <th>1</th>\n",
       "      <td>6378fea6b</td>\n",
       "      <td>livejupiter</td>\n",
       "      <td>最近はアヘアヘQSマンやない？ ｲｲ!(・∀・)+1-0(・Ａ・)ｲｸﾅｲ!</td>\n",
       "      <td>0</td>\n",
       "    </tr>\n",
       "    <tr>\n",
       "      <th>2</th>\n",
       "      <td>c535f5613</td>\n",
       "      <td>livejupiter</td>\n",
       "      <td>日本人として生まれても無能な低学歴って分かったら日本人の権利剥奪して追放すべきやろ\\n甘えるな</td>\n",
       "      <td>1</td>\n",
       "    </tr>\n",
       "    <tr>\n",
       "      <th>3</th>\n",
       "      <td>e76638295</td>\n",
       "      <td>livejupiter</td>\n",
       "      <td>よくよく思えば川上は配布にしたらとんでもなく有能だよな\\nガチャから引いたら圧倒的歓喜レベルやで</td>\n",
       "      <td>0</td>\n",
       "    </tr>\n",
       "    <tr>\n",
       "      <th>4</th>\n",
       "      <td>51e4036bf</td>\n",
       "      <td>newsplus</td>\n",
       "      <td>押井は原作レイプの専門家だから\\n原作マンガの真意を誤解させることに関してはプロだが\\nそれ...</td>\n",
       "      <td>0</td>\n",
       "    </tr>\n",
       "    <tr>\n",
       "      <th>...</th>\n",
       "      <td>...</td>\n",
       "      <td>...</td>\n",
       "      <td>...</td>\n",
       "      <td>...</td>\n",
       "    </tr>\n",
       "    <tr>\n",
       "      <th>5251</th>\n",
       "      <td>42b5f86b0</td>\n",
       "      <td>news4vip</td>\n",
       "      <td>車じゃなくてもよくない？\\nケーブル網を張り巡らせてリフトみたいなのを付けるとか</td>\n",
       "      <td>0</td>\n",
       "    </tr>\n",
       "    <tr>\n",
       "      <th>5252</th>\n",
       "      <td>402ce15d9</td>\n",
       "      <td>livejupiter</td>\n",
       "      <td>左やぞ？\\n出すなら下水流</td>\n",
       "      <td>0</td>\n",
       "    </tr>\n",
       "    <tr>\n",
       "      <th>5253</th>\n",
       "      <td>0739a9fcb</td>\n",
       "      <td>newsplus</td>\n",
       "      <td>日本によって、けんけんガクガクの議論を持たらされた韓国は被害者\\n\\n日本人がしっかり考えな...</td>\n",
       "      <td>0</td>\n",
       "    </tr>\n",
       "    <tr>\n",
       "      <th>5254</th>\n",
       "      <td>d496c7dc8</td>\n",
       "      <td>news4vip</td>\n",
       "      <td>ゴムボート買って、沖まで漕いで行ったら？\\n魚の血を塗っておけばサメが食べてくれるよ</td>\n",
       "      <td>0</td>\n",
       "    </tr>\n",
       "    <tr>\n",
       "      <th>5255</th>\n",
       "      <td>d1838f4f0</td>\n",
       "      <td>news4vip</td>\n",
       "      <td>男は美化してないだろ？普通にエロい部分や格好悪い所も描かれてる\\n女の方は主人公美少女しかい...</td>\n",
       "      <td>0</td>\n",
       "    </tr>\n",
       "  </tbody>\n",
       "</table>\n",
       "<p>5256 rows × 4 columns</p>\n",
       "</div>"
      ],
      "text/plain": [
       "             id       source  \\\n",
       "0     80074aa43     news4vip   \n",
       "1     6378fea6b  livejupiter   \n",
       "2     c535f5613  livejupiter   \n",
       "3     e76638295  livejupiter   \n",
       "4     51e4036bf     newsplus   \n",
       "...         ...          ...   \n",
       "5251  42b5f86b0     news4vip   \n",
       "5252  402ce15d9  livejupiter   \n",
       "5253  0739a9fcb     newsplus   \n",
       "5254  d496c7dc8     news4vip   \n",
       "5255  d1838f4f0     news4vip   \n",
       "\n",
       "                                                   text  label  \n",
       "0                     まともに相手されてない人との関係なんて\\nそんな大事にするものか？      0  \n",
       "1                最近はアヘアヘQSマンやない？ ｲｲ!(・∀・)+1-0(・Ａ・)ｲｸﾅｲ!      0  \n",
       "2       日本人として生まれても無能な低学歴って分かったら日本人の権利剥奪して追放すべきやろ\\n甘えるな      1  \n",
       "3      よくよく思えば川上は配布にしたらとんでもなく有能だよな\\nガチャから引いたら圧倒的歓喜レベルやで      0  \n",
       "4     押井は原作レイプの専門家だから\\n原作マンガの真意を誤解させることに関してはプロだが\\nそれ...      0  \n",
       "...                                                 ...    ...  \n",
       "5251           車じゃなくてもよくない？\\nケーブル網を張り巡らせてリフトみたいなのを付けるとか      0  \n",
       "5252                                      左やぞ？\\n出すなら下水流      0  \n",
       "5253  日本によって、けんけんガクガクの議論を持たらされた韓国は被害者\\n\\n日本人がしっかり考えな...      0  \n",
       "5254         ゴムボート買って、沖まで漕いで行ったら？\\n魚の血を塗っておけばサメが食べてくれるよ      0  \n",
       "5255  男は美化してないだろ？普通にエロい部分や格好悪い所も描かれてる\\n女の方は主人公美少女しかい...      0  \n",
       "\n",
       "[5256 rows x 4 columns]"
      ]
     },
     "execution_count": 2,
     "metadata": {},
     "output_type": "execute_result"
    }
   ],
   "source": [
    "DATA_DIR = \"../data/\"\n",
    "\n",
    "train_raw = pd.read_csv(f\"{DATA_DIR}raw/train.csv\")\n",
    "train_raw"
   ]
  },
  {
   "cell_type": "code",
   "execution_count": 3,
   "id": "78f95df1-3381-40dd-947e-e7d02c430e5f",
   "metadata": {},
   "outputs": [
    {
     "data": {
      "text/html": [
       "<div>\n",
       "<style scoped>\n",
       "    .dataframe tbody tr th:only-of-type {\n",
       "        vertical-align: middle;\n",
       "    }\n",
       "\n",
       "    .dataframe tbody tr th {\n",
       "        vertical-align: top;\n",
       "    }\n",
       "\n",
       "    .dataframe thead th {\n",
       "        text-align: right;\n",
       "    }\n",
       "</style>\n",
       "<table border=\"1\" class=\"dataframe\">\n",
       "  <thead>\n",
       "    <tr style=\"text-align: right;\">\n",
       "      <th></th>\n",
       "      <th>id</th>\n",
       "      <th>source</th>\n",
       "      <th>text</th>\n",
       "    </tr>\n",
       "  </thead>\n",
       "  <tbody>\n",
       "    <tr>\n",
       "      <th>0</th>\n",
       "      <td>001026808</td>\n",
       "      <td>news4vip</td>\n",
       "      <td>上でも言ったけどオタクレベルの知識求めてる訳じゃない\\nただ囲碁やります！って人が誰1人プロ...</td>\n",
       "    </tr>\n",
       "    <tr>\n",
       "      <th>1</th>\n",
       "      <td>00465ac96</td>\n",
       "      <td>livejupiter</td>\n",
       "      <td>たとえば、黒人なんかは、生物学的欠陥はないのに、文化的要因で、悪循環に陥り、実力をつけられず...</td>\n",
       "    </tr>\n",
       "    <tr>\n",
       "      <th>2</th>\n",
       "      <td>004674725</td>\n",
       "      <td>livejupiter</td>\n",
       "      <td>そうなんやろなあ色々と勿体ない感じしたわ\\n終わり方と黒幕キャラは好きやったで\\n\\nちなワ...</td>\n",
       "    </tr>\n",
       "    <tr>\n",
       "      <th>3</th>\n",
       "      <td>00474460f</td>\n",
       "      <td>news4vip</td>\n",
       "      <td>法的というか自治体ごとにバラバラの条例で定めてるだけだからな\\n普通の淫行条例だと「青少年に...</td>\n",
       "    </tr>\n",
       "    <tr>\n",
       "      <th>4</th>\n",
       "      <td>004a7525c</td>\n",
       "      <td>newsplus</td>\n",
       "      <td>別のジャーナリストの感想として言われてるので客観的な事実とは言えないけど、\\n現地は不測の事...</td>\n",
       "    </tr>\n",
       "    <tr>\n",
       "      <th>...</th>\n",
       "      <td>...</td>\n",
       "      <td>...</td>\n",
       "      <td>...</td>\n",
       "    </tr>\n",
       "    <tr>\n",
       "      <th>3218</th>\n",
       "      <td>ffc4647ac</td>\n",
       "      <td>news4vip</td>\n",
       "      <td>１人がいいのか？\\nなんで変なのと同棲したのか…\\nなにがしたいんだ…</td>\n",
       "    </tr>\n",
       "    <tr>\n",
       "      <th>3219</th>\n",
       "      <td>ffc6554ba</td>\n",
       "      <td>newsplus</td>\n",
       "      <td>ロシアもだなあ\\n元々北朝鮮はロシアの工作で作られた国だから</td>\n",
       "    </tr>\n",
       "    <tr>\n",
       "      <th>3220</th>\n",
       "      <td>ffd3b29c2</td>\n",
       "      <td>newsplus</td>\n",
       "      <td>クネが国境に拡声器を設置して昼も夜も北の悪口鳴らしてんだとよ\\nお互い当たらないように大砲撃...</td>\n",
       "    </tr>\n",
       "    <tr>\n",
       "      <th>3221</th>\n",
       "      <td>ffd3c69b6</td>\n",
       "      <td>news4vip</td>\n",
       "      <td>当然って言い方が腹立つんだよなあ\\r\\nその時点で何か男より優位に立ちたいみたいな感じがして...</td>\n",
       "    </tr>\n",
       "    <tr>\n",
       "      <th>3222</th>\n",
       "      <td>fff5802e5</td>\n",
       "      <td>newsplus</td>\n",
       "      <td>議員辞職したわけじゃないから、無所属でどこかの会派に入ればいいだけなんじゃないの？</td>\n",
       "    </tr>\n",
       "  </tbody>\n",
       "</table>\n",
       "<p>3223 rows × 3 columns</p>\n",
       "</div>"
      ],
      "text/plain": [
       "             id       source  \\\n",
       "0     001026808     news4vip   \n",
       "1     00465ac96  livejupiter   \n",
       "2     004674725  livejupiter   \n",
       "3     00474460f     news4vip   \n",
       "4     004a7525c     newsplus   \n",
       "...         ...          ...   \n",
       "3218  ffc4647ac     news4vip   \n",
       "3219  ffc6554ba     newsplus   \n",
       "3220  ffd3b29c2     newsplus   \n",
       "3221  ffd3c69b6     news4vip   \n",
       "3222  fff5802e5     newsplus   \n",
       "\n",
       "                                                   text  \n",
       "0     上でも言ったけどオタクレベルの知識求めてる訳じゃない\\nただ囲碁やります！って人が誰1人プロ...  \n",
       "1     たとえば、黒人なんかは、生物学的欠陥はないのに、文化的要因で、悪循環に陥り、実力をつけられず...  \n",
       "2     そうなんやろなあ色々と勿体ない感じしたわ\\n終わり方と黒幕キャラは好きやったで\\n\\nちなワ...  \n",
       "3     法的というか自治体ごとにバラバラの条例で定めてるだけだからな\\n普通の淫行条例だと「青少年に...  \n",
       "4     別のジャーナリストの感想として言われてるので客観的な事実とは言えないけど、\\n現地は不測の事...  \n",
       "...                                                 ...  \n",
       "3218                １人がいいのか？\\nなんで変なのと同棲したのか…\\nなにがしたいんだ…  \n",
       "3219                     ロシアもだなあ\\n元々北朝鮮はロシアの工作で作られた国だから  \n",
       "3220  クネが国境に拡声器を設置して昼も夜も北の悪口鳴らしてんだとよ\\nお互い当たらないように大砲撃...  \n",
       "3221  当然って言い方が腹立つんだよなあ\\r\\nその時点で何か男より優位に立ちたいみたいな感じがして...  \n",
       "3222          議員辞職したわけじゃないから、無所属でどこかの会派に入ればいいだけなんじゃないの？  \n",
       "\n",
       "[3223 rows x 3 columns]"
      ]
     },
     "execution_count": 3,
     "metadata": {},
     "output_type": "execute_result"
    }
   ],
   "source": [
    "test_raw = pd.read_csv(f\"{DATA_DIR}raw/test.csv\")\n",
    "test_raw"
   ]
  },
  {
   "cell_type": "code",
   "execution_count": 4,
   "id": "560c9ef6-afaf-4465-8121-3a95aced6225",
   "metadata": {},
   "outputs": [
    {
     "data": {
      "text/html": [
       "<div>\n",
       "<style scoped>\n",
       "    .dataframe tbody tr th:only-of-type {\n",
       "        vertical-align: middle;\n",
       "    }\n",
       "\n",
       "    .dataframe tbody tr th {\n",
       "        vertical-align: top;\n",
       "    }\n",
       "\n",
       "    .dataframe thead th {\n",
       "        text-align: right;\n",
       "    }\n",
       "</style>\n",
       "<table border=\"1\" class=\"dataframe\">\n",
       "  <thead>\n",
       "    <tr style=\"text-align: right;\">\n",
       "      <th></th>\n",
       "      <th>id</th>\n",
       "      <th>label</th>\n",
       "    </tr>\n",
       "  </thead>\n",
       "  <tbody>\n",
       "    <tr>\n",
       "      <th>0</th>\n",
       "      <td>001026808</td>\n",
       "      <td>0</td>\n",
       "    </tr>\n",
       "    <tr>\n",
       "      <th>1</th>\n",
       "      <td>00465ac96</td>\n",
       "      <td>0</td>\n",
       "    </tr>\n",
       "    <tr>\n",
       "      <th>2</th>\n",
       "      <td>004674725</td>\n",
       "      <td>0</td>\n",
       "    </tr>\n",
       "    <tr>\n",
       "      <th>3</th>\n",
       "      <td>00474460f</td>\n",
       "      <td>0</td>\n",
       "    </tr>\n",
       "    <tr>\n",
       "      <th>4</th>\n",
       "      <td>004a7525c</td>\n",
       "      <td>0</td>\n",
       "    </tr>\n",
       "    <tr>\n",
       "      <th>...</th>\n",
       "      <td>...</td>\n",
       "      <td>...</td>\n",
       "    </tr>\n",
       "    <tr>\n",
       "      <th>3218</th>\n",
       "      <td>ffc4647ac</td>\n",
       "      <td>0</td>\n",
       "    </tr>\n",
       "    <tr>\n",
       "      <th>3219</th>\n",
       "      <td>ffc6554ba</td>\n",
       "      <td>0</td>\n",
       "    </tr>\n",
       "    <tr>\n",
       "      <th>3220</th>\n",
       "      <td>ffd3b29c2</td>\n",
       "      <td>0</td>\n",
       "    </tr>\n",
       "    <tr>\n",
       "      <th>3221</th>\n",
       "      <td>ffd3c69b6</td>\n",
       "      <td>0</td>\n",
       "    </tr>\n",
       "    <tr>\n",
       "      <th>3222</th>\n",
       "      <td>fff5802e5</td>\n",
       "      <td>0</td>\n",
       "    </tr>\n",
       "  </tbody>\n",
       "</table>\n",
       "<p>3223 rows × 2 columns</p>\n",
       "</div>"
      ],
      "text/plain": [
       "             id  label\n",
       "0     001026808      0\n",
       "1     00465ac96      0\n",
       "2     004674725      0\n",
       "3     00474460f      0\n",
       "4     004a7525c      0\n",
       "...         ...    ...\n",
       "3218  ffc4647ac      0\n",
       "3219  ffc6554ba      0\n",
       "3220  ffd3b29c2      0\n",
       "3221  ffd3c69b6      0\n",
       "3222  fff5802e5      0\n",
       "\n",
       "[3223 rows x 2 columns]"
      ]
     },
     "execution_count": 4,
     "metadata": {},
     "output_type": "execute_result"
    }
   ],
   "source": [
    "sub_sample = pd.read_csv(f\"{DATA_DIR}raw/sample_submission.csv\")\n",
    "sub_sample"
   ]
  },
  {
   "cell_type": "code",
   "execution_count": 5,
   "id": "dfdd3730-3ff6-4038-9fad-eedcf94f08a6",
   "metadata": {},
   "outputs": [
    {
     "name": "stdout",
     "output_type": "stream",
     "text": [
      "dict_keys(['ファイル説明', 'カラム説明'])\n"
     ]
    },
    {
     "data": {
      "text/html": [
       "<div>\n",
       "<style scoped>\n",
       "    .dataframe tbody tr th:only-of-type {\n",
       "        vertical-align: middle;\n",
       "    }\n",
       "\n",
       "    .dataframe tbody tr th {\n",
       "        vertical-align: top;\n",
       "    }\n",
       "\n",
       "    .dataframe thead th {\n",
       "        text-align: right;\n",
       "    }\n",
       "</style>\n",
       "<table border=\"1\" class=\"dataframe\">\n",
       "  <thead>\n",
       "    <tr style=\"text-align: right;\">\n",
       "      <th></th>\n",
       "      <th>カラム名</th>\n",
       "      <th>内容</th>\n",
       "    </tr>\n",
       "  </thead>\n",
       "  <tbody>\n",
       "    <tr>\n",
       "      <th>0</th>\n",
       "      <td>id</td>\n",
       "      <td>一意のid</td>\n",
       "    </tr>\n",
       "    <tr>\n",
       "      <th>1</th>\n",
       "      <td>source</td>\n",
       "      <td>おーぷん2ちゃんねる対話コーパスでクロールされた掲示板(「なんでも実況(ジュピター)(liv...</td>\n",
       "    </tr>\n",
       "    <tr>\n",
       "      <th>2</th>\n",
       "      <td>text</td>\n",
       "      <td>投稿テキスト</td>\n",
       "    </tr>\n",
       "    <tr>\n",
       "      <th>3</th>\n",
       "      <td>label</td>\n",
       "      <td>0:ヘイトスピーチではない。1:ヘイトスピーチ</td>\n",
       "    </tr>\n",
       "  </tbody>\n",
       "</table>\n",
       "</div>"
      ],
      "text/plain": [
       "     カラム名                                                 内容\n",
       "0      id                                              一意のid\n",
       "1  source  おーぷん2ちゃんねる対話コーパスでクロールされた掲示板(「なんでも実況(ジュピター)(liv...\n",
       "2    text                                             投稿テキスト\n",
       "3   label                            0:ヘイトスピーチではない。1:ヘイトスピーチ"
      ]
     },
     "execution_count": 5,
     "metadata": {},
     "output_type": "execute_result"
    }
   ],
   "source": [
    "print(pd.read_excel(f\"{DATA_DIR}raw/data_explanation.xlsx\", sheet_name=None).keys())\n",
    "data_exp = pd.read_excel(f\"{DATA_DIR}raw/data_explanation.xlsx\", sheet_name=\"カラム説明\")\n",
    "data_exp"
   ]
  },
  {
   "cell_type": "markdown",
   "id": "007464a4-a530-46ba-b0c8-16751f168582",
   "metadata": {},
   "source": [
    "# trainデータ"
   ]
  },
  {
   "cell_type": "code",
   "execution_count": 6,
   "id": "b7058b6e-45d2-4b9b-8229-8b74be286d0b",
   "metadata": {},
   "outputs": [],
   "source": [
    "train = train_raw"
   ]
  },
  {
   "cell_type": "code",
   "execution_count": 7,
   "id": "faf52fdc-938c-4173-9520-86fdaff156a9",
   "metadata": {},
   "outputs": [
    {
     "data": {
      "text/plain": [
       "id        0\n",
       "source    0\n",
       "text      0\n",
       "label     0\n",
       "dtype: int64"
      ]
     },
     "execution_count": 7,
     "metadata": {},
     "output_type": "execute_result"
    }
   ],
   "source": [
    "train.isnull().sum()"
   ]
  },
  {
   "cell_type": "code",
   "execution_count": 8,
   "id": "c0a88cdc-4185-4647-b768-d66e2d8b9fa7",
   "metadata": {},
   "outputs": [
    {
     "data": {
      "text/html": [
       "<div>\n",
       "<style scoped>\n",
       "    .dataframe tbody tr th:only-of-type {\n",
       "        vertical-align: middle;\n",
       "    }\n",
       "\n",
       "    .dataframe tbody tr th {\n",
       "        vertical-align: top;\n",
       "    }\n",
       "\n",
       "    .dataframe thead th {\n",
       "        text-align: right;\n",
       "    }\n",
       "</style>\n",
       "<table border=\"1\" class=\"dataframe\">\n",
       "  <thead>\n",
       "    <tr style=\"text-align: right;\">\n",
       "      <th></th>\n",
       "      <th>id</th>\n",
       "      <th>source</th>\n",
       "      <th>text</th>\n",
       "      <th>label</th>\n",
       "    </tr>\n",
       "  </thead>\n",
       "  <tbody>\n",
       "    <tr>\n",
       "      <th>count</th>\n",
       "      <td>5256</td>\n",
       "      <td>5256</td>\n",
       "      <td>5256</td>\n",
       "      <td>5256.000000</td>\n",
       "    </tr>\n",
       "    <tr>\n",
       "      <th>unique</th>\n",
       "      <td>5256</td>\n",
       "      <td>3</td>\n",
       "      <td>5256</td>\n",
       "      <td>NaN</td>\n",
       "    </tr>\n",
       "    <tr>\n",
       "      <th>top</th>\n",
       "      <td>80074aa43</td>\n",
       "      <td>newsplus</td>\n",
       "      <td>まともに相手されてない人との関係なんて\\nそんな大事にするものか？</td>\n",
       "      <td>NaN</td>\n",
       "    </tr>\n",
       "    <tr>\n",
       "      <th>freq</th>\n",
       "      <td>1</td>\n",
       "      <td>1967</td>\n",
       "      <td>1</td>\n",
       "      <td>NaN</td>\n",
       "    </tr>\n",
       "    <tr>\n",
       "      <th>mean</th>\n",
       "      <td>NaN</td>\n",
       "      <td>NaN</td>\n",
       "      <td>NaN</td>\n",
       "      <td>0.058219</td>\n",
       "    </tr>\n",
       "    <tr>\n",
       "      <th>std</th>\n",
       "      <td>NaN</td>\n",
       "      <td>NaN</td>\n",
       "      <td>NaN</td>\n",
       "      <td>0.234180</td>\n",
       "    </tr>\n",
       "    <tr>\n",
       "      <th>min</th>\n",
       "      <td>NaN</td>\n",
       "      <td>NaN</td>\n",
       "      <td>NaN</td>\n",
       "      <td>0.000000</td>\n",
       "    </tr>\n",
       "    <tr>\n",
       "      <th>25%</th>\n",
       "      <td>NaN</td>\n",
       "      <td>NaN</td>\n",
       "      <td>NaN</td>\n",
       "      <td>0.000000</td>\n",
       "    </tr>\n",
       "    <tr>\n",
       "      <th>50%</th>\n",
       "      <td>NaN</td>\n",
       "      <td>NaN</td>\n",
       "      <td>NaN</td>\n",
       "      <td>0.000000</td>\n",
       "    </tr>\n",
       "    <tr>\n",
       "      <th>75%</th>\n",
       "      <td>NaN</td>\n",
       "      <td>NaN</td>\n",
       "      <td>NaN</td>\n",
       "      <td>0.000000</td>\n",
       "    </tr>\n",
       "    <tr>\n",
       "      <th>max</th>\n",
       "      <td>NaN</td>\n",
       "      <td>NaN</td>\n",
       "      <td>NaN</td>\n",
       "      <td>1.000000</td>\n",
       "    </tr>\n",
       "  </tbody>\n",
       "</table>\n",
       "</div>"
      ],
      "text/plain": [
       "               id    source                               text        label\n",
       "count        5256      5256                               5256  5256.000000\n",
       "unique       5256         3                               5256          NaN\n",
       "top     80074aa43  newsplus  まともに相手されてない人との関係なんて\\nそんな大事にするものか？          NaN\n",
       "freq            1      1967                                  1          NaN\n",
       "mean          NaN       NaN                                NaN     0.058219\n",
       "std           NaN       NaN                                NaN     0.234180\n",
       "min           NaN       NaN                                NaN     0.000000\n",
       "25%           NaN       NaN                                NaN     0.000000\n",
       "50%           NaN       NaN                                NaN     0.000000\n",
       "75%           NaN       NaN                                NaN     0.000000\n",
       "max           NaN       NaN                                NaN     1.000000"
      ]
     },
     "execution_count": 8,
     "metadata": {},
     "output_type": "execute_result"
    }
   ],
   "source": [
    "train.describe(include=\"all\")"
   ]
  },
  {
   "cell_type": "markdown",
   "id": "c25154b0-87d3-4651-9fe7-b853e75d8027",
   "metadata": {},
   "source": [
    "## ラベル数確認"
   ]
  },
  {
   "cell_type": "code",
   "execution_count": 9,
   "id": "336e715b-5f2c-400f-8a59-45dd671dd495",
   "metadata": {},
   "outputs": [
    {
     "data": {
      "text/plain": [
       "0    4950\n",
       "1     306\n",
       "Name: label, dtype: int64"
      ]
     },
     "execution_count": 9,
     "metadata": {},
     "output_type": "execute_result"
    }
   ],
   "source": [
    "train[\"label\"].value_counts()"
   ]
  },
  {
   "cell_type": "code",
   "execution_count": 10,
   "id": "07f7a015-af92-4462-a442-5627db3fe4a7",
   "metadata": {},
   "outputs": [
    {
     "data": {
      "image/png": "[encoded data removed]",
      "text/plain": [
       "<Figure size 4540x1362 with 2 Axes>"
      ]
     },
     "metadata": {
      "needs_background": "light"
     },
     "output_type": "display_data"
    }
   ],
   "source": [
    "labels = [\"Hate\", \"Non_Hate\"]\n",
    "sizes = [306, 4950]\n",
    "\n",
    "plt.figure(figsize=(20, 6), dpi=227)\n",
    "plt.subplot(1, 2, 1)\n",
    "plt.pie(sizes, labels=labels, textprops={\"fontsize\": 15}, startangle=90, autopct=\"%1.0f%%\",explode=[0, 0.05])\n",
    "plt.subplot(1, 2, 2)\n",
    "sns.barplot(x=train[\"label\"].unique(), y=train[\"label\"].value_counts(), palette=\"viridis\")\n",
    "plt.show()"
   ]
  },
  {
   "cell_type": "markdown",
   "id": "00e82472-4555-4812-89af-6b0683ecd276",
   "metadata": {},
   "source": [
    "## ソース元確認"
   ]
  },
  {
   "cell_type": "code",
   "execution_count": 11,
   "id": "eadeb405-0b1e-4062-8da3-2efbfb6d0ad2",
   "metadata": {},
   "outputs": [
    {
     "data": {
      "text/plain": [
       "newsplus       1967\n",
       "news4vip       1849\n",
       "livejupiter    1440\n",
       "Name: source, dtype: int64"
      ]
     },
     "execution_count": 11,
     "metadata": {},
     "output_type": "execute_result"
    }
   ],
   "source": [
    "train[\"source\"].value_counts()"
   ]
  },
  {
   "cell_type": "code",
   "execution_count": 12,
   "id": "3daa93da-5314-40d9-9a86-c7560f9efcab",
   "metadata": {},
   "outputs": [
    {
     "data": {
      "image/png": "[encoded data removed]",
      "text/plain": [
       "<Figure size 4540x1362 with 2 Axes>"
      ]
     },
     "metadata": {
      "needs_background": "light"
     },
     "output_type": "display_data"
    }
   ],
   "source": [
    "labels = [\"newsplus\", \"news4vip\", \"livejupiter\"]\n",
    "sizes = [1967, 1849, 1440]\n",
    "\n",
    "plt.figure(figsize=(20, 6), dpi=227)\n",
    "plt.subplot(1, 2, 1)\n",
    "plt.pie(sizes, labels=labels, textprops={\"fontsize\": 15}, startangle=90, autopct=\"%1.0f%%\")\n",
    "plt.subplot(1, 2, 2)\n",
    "sns.barplot(x=labels, y=train[\"source\"].value_counts(), palette=\"viridis\")\n",
    "plt.show()"
   ]
  },
  {
   "cell_type": "markdown",
   "id": "7f0258c8-d666-40e7-b7a2-3302e1306093",
   "metadata": {},
   "source": [
    "## 改行文字等削除"
   ]
  },
  {
   "cell_type": "code",
   "execution_count": 13,
   "id": "dd7daee5-9fea-4ce3-a48f-edd6450c09b7",
   "metadata": {},
   "outputs": [],
   "source": [
    "new_text = []\n",
    "char_num = []\n",
    "\n",
    "for line in train[\"text\"]:\n",
    "    line = line.strip(\"\\n\")\n",
    "    line = line.replace(\"\\n\", \"\")\n",
    "    line = line.rstrip(\"\\u3000\")\n",
    "    line = line.replace(\"\\u3000\", \"\")\n",
    "    \n",
    "    # 半角全角英数字除去\n",
    "    line = re.sub(r'[0-9０-９a-zA-Zａ-ｚＡ-Ｚ]+', \" \", line)\n",
    "    # 記号もろもろ除去\n",
    "    line = re.sub(r'[\\．_－―─！＠＃＄％＾＆\\-‐|\\\\＊\\“（）＿■×+α※÷⇒—●★☆〇◎◆▼◇△□(：〜～＋=)／*&^%$#@!~`){}［］…\\[\\]\\\"\\'\\”\\’:;<>?＜＞〔〕〈〉？、。・,\\./『』【】「」→←○《》≪≫\\n\\u3000]+', \"\", line)\n",
    "    \n",
    "    new_text.append(line)\n",
    "    char_num.append(len(line))"
   ]
  },
  {
   "cell_type": "code",
   "execution_count": 14,
   "id": "85813485-f131-4d13-a1e8-445cd0d8f1d1",
   "metadata": {},
   "outputs": [
    {
     "data": {
      "text/html": [
       "<div>\n",
       "<style scoped>\n",
       "    .dataframe tbody tr th:only-of-type {\n",
       "        vertical-align: middle;\n",
       "    }\n",
       "\n",
       "    .dataframe tbody tr th {\n",
       "        vertical-align: top;\n",
       "    }\n",
       "\n",
       "    .dataframe thead th {\n",
       "        text-align: right;\n",
       "    }\n",
       "</style>\n",
       "<table border=\"1\" class=\"dataframe\">\n",
       "  <thead>\n",
       "    <tr style=\"text-align: right;\">\n",
       "      <th></th>\n",
       "      <th>id</th>\n",
       "      <th>source</th>\n",
       "      <th>text</th>\n",
       "      <th>label</th>\n",
       "      <th>char_num</th>\n",
       "    </tr>\n",
       "  </thead>\n",
       "  <tbody>\n",
       "    <tr>\n",
       "      <th>0</th>\n",
       "      <td>80074aa43</td>\n",
       "      <td>news4vip</td>\n",
       "      <td>まともに相手されてない人との関係なんてそんな大事にするものか</td>\n",
       "      <td>0</td>\n",
       "      <td>30</td>\n",
       "    </tr>\n",
       "    <tr>\n",
       "      <th>1</th>\n",
       "      <td>6378fea6b</td>\n",
       "      <td>livejupiter</td>\n",
       "      <td>最近はアヘアヘ マンやない ｲｲ∀   ｲｸﾅｲ</td>\n",
       "      <td>0</td>\n",
       "      <td>24</td>\n",
       "    </tr>\n",
       "    <tr>\n",
       "      <th>2</th>\n",
       "      <td>c535f5613</td>\n",
       "      <td>livejupiter</td>\n",
       "      <td>日本人として生まれても無能な低学歴って分かったら日本人の権利剥奪して追放すべきやろ甘えるな</td>\n",
       "      <td>1</td>\n",
       "      <td>45</td>\n",
       "    </tr>\n",
       "    <tr>\n",
       "      <th>3</th>\n",
       "      <td>e76638295</td>\n",
       "      <td>livejupiter</td>\n",
       "      <td>よくよく思えば川上は配布にしたらとんでもなく有能だよなガチャから引いたら圧倒的歓喜レベルやで</td>\n",
       "      <td>0</td>\n",
       "      <td>46</td>\n",
       "    </tr>\n",
       "    <tr>\n",
       "      <th>4</th>\n",
       "      <td>51e4036bf</td>\n",
       "      <td>newsplus</td>\n",
       "      <td>押井は原作レイプの専門家だから原作マンガの真意を誤解させることに関してはプロだがそれ以外には...</td>\n",
       "      <td>0</td>\n",
       "      <td>54</td>\n",
       "    </tr>\n",
       "  </tbody>\n",
       "</table>\n",
       "</div>"
      ],
      "text/plain": [
       "          id       source                                               text  \\\n",
       "0  80074aa43     news4vip                     まともに相手されてない人との関係なんてそんな大事にするものか   \n",
       "1  6378fea6b  livejupiter                           最近はアヘアヘ マンやない ｲｲ∀   ｲｸﾅｲ   \n",
       "2  c535f5613  livejupiter      日本人として生まれても無能な低学歴って分かったら日本人の権利剥奪して追放すべきやろ甘えるな   \n",
       "3  e76638295  livejupiter     よくよく思えば川上は配布にしたらとんでもなく有能だよなガチャから引いたら圧倒的歓喜レベルやで   \n",
       "4  51e4036bf     newsplus  押井は原作レイプの専門家だから原作マンガの真意を誤解させることに関してはプロだがそれ以外には...   \n",
       "\n",
       "   label  char_num  \n",
       "0      0        30  \n",
       "1      0        24  \n",
       "2      1        45  \n",
       "3      0        46  \n",
       "4      0        54  "
      ]
     },
     "execution_count": 14,
     "metadata": {},
     "output_type": "execute_result"
    }
   ],
   "source": [
    "train[\"text\"] = new_text\n",
    "train[\"char_num\"] = char_num\n",
    "\n",
    "train.head()"
   ]
  },
  {
   "cell_type": "markdown",
   "id": "f3d67ad4-8823-4b85-9b02-bab1827cd298",
   "metadata": {},
   "source": [
    "### ヒストグラム（文字数、label）"
   ]
  },
  {
   "cell_type": "code",
   "execution_count": 15,
   "id": "ce5f7d33-54d5-42b8-80d3-a480b8e26066",
   "metadata": {},
   "outputs": [
    {
     "data": {
      "image/png": "[encoded data removed]",
      "text/plain": [
       "<Figure size 432x288 with 1 Axes>"
      ]
     },
     "metadata": {
      "needs_background": "light"
     },
     "output_type": "display_data"
    }
   ],
   "source": [
    "plt.hist(train[train[\"label\"]==0][\"char_num\"], alpha = 0.5, label=\"label=0\")\n",
    "plt.hist(train[train[\"label\"]==1][\"char_num\"], alpha = 0.5, label=\"label=1\")\n",
    "plt.legend(loc=\"upper right\")\n",
    "plt.title(\"Number of characters\")\n",
    "\n",
    "plt.show()"
   ]
  },
  {
   "cell_type": "markdown",
   "id": "16375f61-109c-4257-baab-048bc15a2305",
   "metadata": {},
   "source": [
    "## 分かち書き（MeCab）"
   ]
  },
  {
   "cell_type": "code",
   "execution_count": 16,
   "id": "18fdec76-4f7e-4ea3-901d-c5d8ac6d6107",
   "metadata": {
    "tags": []
   },
   "outputs": [],
   "source": [
    "m = MeCab.Tagger(\"-Owakati\")\n",
    "\n",
    "text_owakachi = []\n",
    "for line in train[\"text\"]:\n",
    "    splited_line = m.parse(line)    \n",
    "    text_owakachi.append(splited_line)"
   ]
  },
  {
   "cell_type": "code",
   "execution_count": 17,
   "id": "4b4945d4-a796-45e2-9d00-5bfa43badcb1",
   "metadata": {},
   "outputs": [
    {
     "data": {
      "text/html": [
       "<div>\n",
       "<style scoped>\n",
       "    .dataframe tbody tr th:only-of-type {\n",
       "        vertical-align: middle;\n",
       "    }\n",
       "\n",
       "    .dataframe tbody tr th {\n",
       "        vertical-align: top;\n",
       "    }\n",
       "\n",
       "    .dataframe thead th {\n",
       "        text-align: right;\n",
       "    }\n",
       "</style>\n",
       "<table border=\"1\" class=\"dataframe\">\n",
       "  <thead>\n",
       "    <tr style=\"text-align: right;\">\n",
       "      <th></th>\n",
       "      <th>id</th>\n",
       "      <th>source</th>\n",
       "      <th>text</th>\n",
       "      <th>label</th>\n",
       "      <th>char_num</th>\n",
       "      <th>text_owakachi</th>\n",
       "      <th>word_num</th>\n",
       "    </tr>\n",
       "  </thead>\n",
       "  <tbody>\n",
       "    <tr>\n",
       "      <th>0</th>\n",
       "      <td>80074aa43</td>\n",
       "      <td>news4vip</td>\n",
       "      <td>まともに相手されてない人との関係なんてそんな大事にするものか</td>\n",
       "      <td>0</td>\n",
       "      <td>30</td>\n",
       "      <td>まとも に 相手 さ れ て ない 人 と の 関係 なんて そんな 大事 に する もの ...</td>\n",
       "      <td>18</td>\n",
       "    </tr>\n",
       "    <tr>\n",
       "      <th>1</th>\n",
       "      <td>6378fea6b</td>\n",
       "      <td>livejupiter</td>\n",
       "      <td>最近はアヘアヘ マンやない ｲｲ∀   ｲｸﾅｲ</td>\n",
       "      <td>0</td>\n",
       "      <td>24</td>\n",
       "      <td>最近 は アヘアヘ マン や ない   ｲｲ ∀ ｲｸﾅｲ \\n</td>\n",
       "      <td>9</td>\n",
       "    </tr>\n",
       "    <tr>\n",
       "      <th>2</th>\n",
       "      <td>c535f5613</td>\n",
       "      <td>livejupiter</td>\n",
       "      <td>日本人として生まれても無能な低学歴って分かったら日本人の権利剥奪して追放すべきやろ甘えるな</td>\n",
       "      <td>1</td>\n",
       "      <td>45</td>\n",
       "      <td>日本 人 と し て 生まれ て も 無能 な 低 学歴 って 分かっ たら 日本 人 の ...</td>\n",
       "      <td>28</td>\n",
       "    </tr>\n",
       "    <tr>\n",
       "      <th>3</th>\n",
       "      <td>e76638295</td>\n",
       "      <td>livejupiter</td>\n",
       "      <td>よくよく思えば川上は配布にしたらとんでもなく有能だよなガチャから引いたら圧倒的歓喜レベルやで</td>\n",
       "      <td>0</td>\n",
       "      <td>46</td>\n",
       "      <td>よくよく 思え ば 川上 は 配布 に し たら とんでも なく 有能 だ よ な ガチャ ...</td>\n",
       "      <td>25</td>\n",
       "    </tr>\n",
       "    <tr>\n",
       "      <th>4</th>\n",
       "      <td>51e4036bf</td>\n",
       "      <td>newsplus</td>\n",
       "      <td>押井は原作レイプの専門家だから原作マンガの真意を誤解させることに関してはプロだがそれ以外には...</td>\n",
       "      <td>0</td>\n",
       "      <td>54</td>\n",
       "      <td>押井 は 原作 レイプ の 専門 家 だ から 原作 マンガ の 真意 を 誤解 さ せる ...</td>\n",
       "      <td>34</td>\n",
       "    </tr>\n",
       "  </tbody>\n",
       "</table>\n",
       "</div>"
      ],
      "text/plain": [
       "          id       source                                               text  \\\n",
       "0  80074aa43     news4vip                     まともに相手されてない人との関係なんてそんな大事にするものか   \n",
       "1  6378fea6b  livejupiter                           最近はアヘアヘ マンやない ｲｲ∀   ｲｸﾅｲ   \n",
       "2  c535f5613  livejupiter      日本人として生まれても無能な低学歴って分かったら日本人の権利剥奪して追放すべきやろ甘えるな   \n",
       "3  e76638295  livejupiter     よくよく思えば川上は配布にしたらとんでもなく有能だよなガチャから引いたら圧倒的歓喜レベルやで   \n",
       "4  51e4036bf     newsplus  押井は原作レイプの専門家だから原作マンガの真意を誤解させることに関してはプロだがそれ以外には...   \n",
       "\n",
       "   label  char_num                                      text_owakachi  \\\n",
       "0      0        30  まとも に 相手 さ れ て ない 人 と の 関係 なんて そんな 大事 に する もの ...   \n",
       "1      0        24                   最近 は アヘアヘ マン や ない   ｲｲ ∀ ｲｸﾅｲ \\n   \n",
       "2      1        45  日本 人 と し て 生まれ て も 無能 な 低 学歴 って 分かっ たら 日本 人 の ...   \n",
       "3      0        46  よくよく 思え ば 川上 は 配布 に し たら とんでも なく 有能 だ よ な ガチャ ...   \n",
       "4      0        54  押井 は 原作 レイプ の 専門 家 だ から 原作 マンガ の 真意 を 誤解 さ せる ...   \n",
       "\n",
       "   word_num  \n",
       "0        18  \n",
       "1         9  \n",
       "2        28  \n",
       "3        25  \n",
       "4        34  "
      ]
     },
     "execution_count": 17,
     "metadata": {},
     "output_type": "execute_result"
    }
   ],
   "source": [
    "train[\"text_owakachi\"] = text_owakachi\n",
    "\n",
    "train[\"word_num\"] = train[\"text_owakachi\"].apply(lambda x: len(x.split()))\n",
    "\n",
    "train.head()"
   ]
  },
  {
   "cell_type": "markdown",
   "id": "24d32b03-d36b-4af6-9b11-a806d5958f73",
   "metadata": {},
   "source": [
    "### ヒストグラム（品詞数、label）"
   ]
  },
  {
   "cell_type": "code",
   "execution_count": 18,
   "id": "d9bba5db-c392-47eb-a708-f01235b4cc20",
   "metadata": {},
   "outputs": [
    {
     "data": {
      "image/png": "[encoded data removed]",
      "text/plain": [
       "<Figure size 432x288 with 1 Axes>"
      ]
     },
     "metadata": {
      "needs_background": "light"
     },
     "output_type": "display_data"
    }
   ],
   "source": [
    "plt.hist(train[train[\"label\"]==0][\"word_num\"], alpha = 0.5, label=\"label=0\")\n",
    "plt.hist(train[train[\"label\"]==1][\"word_num\"], alpha = 0.5, label=\"label=1\")\n",
    "plt.legend(loc=\"upper right\")\n",
    "plt.title(\"Number of parts of speech\")\n",
    "\n",
    "plt.show()"
   ]
  },
  {
   "cell_type": "markdown",
   "id": "14c93224-2b42-4611-813a-0d90eaae365d",
   "metadata": {},
   "source": [
    "## 形態素解析（spaCy/GiNZA）\n",
    "- [参考サイト（第4回 spaCy/GiNZA を用いた自然言語処理）](https://www.ogis-ri.co.jp/otc/hiroba/technical/similar-document-search/part4.html)"
   ]
  },
  {
   "cell_type": "code",
   "execution_count": 19,
   "id": "7cf5ecf7-94b2-4dfa-99c2-82de389fb16a",
   "metadata": {},
   "outputs": [],
   "source": [
    "nlp = spacy.load(\"ja_ginza\")"
   ]
  },
  {
   "cell_type": "code",
   "execution_count": 20,
   "id": "76f4c95b-77ca-4ad3-8862-bf56eb3cd3f1",
   "metadata": {},
   "outputs": [
    {
     "name": "stdout",
     "output_type": "stream",
     "text": [
      "まともに相手されてない人との関係なんてそんな大事にするものか\n",
      "まともに相手されてない人\n",
      "関係\n",
      "そんな\n",
      "大事にするもの\n"
     ]
    }
   ],
   "source": [
    "# 挙動確認（noun_chunks）\n",
    "doc = nlp(train[\"text\"][0])\n",
    "\n",
    "print(doc)\n",
    "\n",
    "for np in doc.noun_chunks:\n",
    "    print(np)"
   ]
  },
  {
   "cell_type": "code",
   "execution_count": 21,
   "id": "d6321806-cca7-425a-9344-bafeb051896e",
   "metadata": {},
   "outputs": [
    {
     "name": "stdout",
     "output_type": "stream",
     "text": [
      "token[ 0] = まとも       , pos:ADJ   , dep:advcl     , head=2\n",
      "token[ 1] = に         , pos:AUX   , dep:aux       , head=0\n",
      "token[ 2] = 相手        , pos:NOUN  , dep:acl       , head=7\n",
      "token[ 3] = さ         , pos:AUX   , dep:aux       , head=2\n",
      "token[ 4] = れ         , pos:AUX   , dep:aux       , head=2\n",
      "token[ 5] = て         , pos:AUX   , dep:aux       , head=2\n",
      "token[ 6] = ない        , pos:AUX   , dep:aux       , head=2\n",
      "token[ 7] = 人         , pos:NOUN  , dep:nmod      , head=10\n",
      "token[ 8] = と         , pos:ADP   , dep:case      , head=7\n",
      "token[ 9] = の         , pos:ADP   , dep:case      , head=7\n",
      "token[10] = 関係        , pos:NOUN  , dep:obl       , head=15\n",
      "token[11] = なんて       , pos:ADP   , dep:case      , head=10\n",
      "token[12] = そんな       , pos:PRON  , dep:obl       , head=15\n",
      "token[13] = 大事        , pos:ADJ   , dep:advcl     , head=15\n",
      "token[14] = に         , pos:AUX   , dep:aux       , head=13\n",
      "token[15] = する        , pos:VERB  , dep:acl       , head=16\n",
      "token[16] = もの        , pos:NOUN  , dep:ROOT      , head=16\n",
      "token[17] = か         , pos:PART  , dep:mark      , head=16\n"
     ]
    }
   ],
   "source": [
    "# 挙動確認（品詞分解等）\n",
    "for token in doc:\n",
    "    print(\"token[%2d] = %-10s, pos:%-6s, dep:%-10s, head=%d\" % (token.i, token.text, token.pos_, token.dep_, token.head.i))"
   ]
  },
  {
   "cell_type": "code",
   "execution_count": 22,
   "id": "ec525360-4afa-40ba-aadd-f449c2124f2e",
   "metadata": {},
   "outputs": [
    {
     "data": {
      "text/html": [
       "<span class=\"tex2jax_ignore\"><svg xmlns=\"http://www.w3.org/2000/svg\" xmlns:xlink=\"http://www.w3.org/1999/xlink\" xml:lang=\"ja\" id=\"8ee67016a1ca42998fd02b11013d777d-0\" class=\"displacy\" width=\"2750\" height=\"512.0\" direction=\"ltr\" style=\"max-width: none; height: 512.0px; color: #000000; background: #ffffff; font-family: Arial; direction: ltr\">\n",
       "<text class=\"displacy-token\" fill=\"currentColor\" text-anchor=\"middle\" y=\"422.0\">\n",
       "    <tspan class=\"displacy-word\" fill=\"currentColor\" x=\"50\">まとも</tspan>\n",
       "    <tspan class=\"displacy-tag\" dy=\"2em\" fill=\"currentColor\" x=\"50\">ADJ</tspan>\n",
       "</text>\n",
       "\n",
       "<text class=\"displacy-token\" fill=\"currentColor\" text-anchor=\"middle\" y=\"422.0\">\n",
       "    <tspan class=\"displacy-word\" fill=\"currentColor\" x=\"200\">に</tspan>\n",
       "    <tspan class=\"displacy-tag\" dy=\"2em\" fill=\"currentColor\" x=\"200\">AUX</tspan>\n",
       "</text>\n",
       "\n",
       "<text class=\"displacy-token\" fill=\"currentColor\" text-anchor=\"middle\" y=\"422.0\">\n",
       "    <tspan class=\"displacy-word\" fill=\"currentColor\" x=\"350\">相手</tspan>\n",
       "    <tspan class=\"displacy-tag\" dy=\"2em\" fill=\"currentColor\" x=\"350\">NOUN</tspan>\n",
       "</text>\n",
       "\n",
       "<text class=\"displacy-token\" fill=\"currentColor\" text-anchor=\"middle\" y=\"422.0\">\n",
       "    <tspan class=\"displacy-word\" fill=\"currentColor\" x=\"500\">さ</tspan>\n",
       "    <tspan class=\"displacy-tag\" dy=\"2em\" fill=\"currentColor\" x=\"500\">AUX</tspan>\n",
       "</text>\n",
       "\n",
       "<text class=\"displacy-token\" fill=\"currentColor\" text-anchor=\"middle\" y=\"422.0\">\n",
       "    <tspan class=\"displacy-word\" fill=\"currentColor\" x=\"650\">れ</tspan>\n",
       "    <tspan class=\"displacy-tag\" dy=\"2em\" fill=\"currentColor\" x=\"650\">AUX</tspan>\n",
       "</text>\n",
       "\n",
       "<text class=\"displacy-token\" fill=\"currentColor\" text-anchor=\"middle\" y=\"422.0\">\n",
       "    <tspan class=\"displacy-word\" fill=\"currentColor\" x=\"800\">て</tspan>\n",
       "    <tspan class=\"displacy-tag\" dy=\"2em\" fill=\"currentColor\" x=\"800\">AUX</tspan>\n",
       "</text>\n",
       "\n",
       "<text class=\"displacy-token\" fill=\"currentColor\" text-anchor=\"middle\" y=\"422.0\">\n",
       "    <tspan class=\"displacy-word\" fill=\"currentColor\" x=\"950\">ない</tspan>\n",
       "    <tspan class=\"displacy-tag\" dy=\"2em\" fill=\"currentColor\" x=\"950\">AUX</tspan>\n",
       "</text>\n",
       "\n",
       "<text class=\"displacy-token\" fill=\"currentColor\" text-anchor=\"middle\" y=\"422.0\">\n",
       "    <tspan class=\"displacy-word\" fill=\"currentColor\" x=\"1100\">人</tspan>\n",
       "    <tspan class=\"displacy-tag\" dy=\"2em\" fill=\"currentColor\" x=\"1100\">NOUN</tspan>\n",
       "</text>\n",
       "\n",
       "<text class=\"displacy-token\" fill=\"currentColor\" text-anchor=\"middle\" y=\"422.0\">\n",
       "    <tspan class=\"displacy-word\" fill=\"currentColor\" x=\"1250\">と</tspan>\n",
       "    <tspan class=\"displacy-tag\" dy=\"2em\" fill=\"currentColor\" x=\"1250\">ADP</tspan>\n",
       "</text>\n",
       "\n",
       "<text class=\"displacy-token\" fill=\"currentColor\" text-anchor=\"middle\" y=\"422.0\">\n",
       "    <tspan class=\"displacy-word\" fill=\"currentColor\" x=\"1400\">の</tspan>\n",
       "    <tspan class=\"displacy-tag\" dy=\"2em\" fill=\"currentColor\" x=\"1400\">ADP</tspan>\n",
       "</text>\n",
       "\n",
       "<text class=\"displacy-token\" fill=\"currentColor\" text-anchor=\"middle\" y=\"422.0\">\n",
       "    <tspan class=\"displacy-word\" fill=\"currentColor\" x=\"1550\">関係</tspan>\n",
       "    <tspan class=\"displacy-tag\" dy=\"2em\" fill=\"currentColor\" x=\"1550\">NOUN</tspan>\n",
       "</text>\n",
       "\n",
       "<text class=\"displacy-token\" fill=\"currentColor\" text-anchor=\"middle\" y=\"422.0\">\n",
       "    <tspan class=\"displacy-word\" fill=\"currentColor\" x=\"1700\">なんて</tspan>\n",
       "    <tspan class=\"displacy-tag\" dy=\"2em\" fill=\"currentColor\" x=\"1700\">ADP</tspan>\n",
       "</text>\n",
       "\n",
       "<text class=\"displacy-token\" fill=\"currentColor\" text-anchor=\"middle\" y=\"422.0\">\n",
       "    <tspan class=\"displacy-word\" fill=\"currentColor\" x=\"1850\">そんな</tspan>\n",
       "    <tspan class=\"displacy-tag\" dy=\"2em\" fill=\"currentColor\" x=\"1850\">PRON</tspan>\n",
       "</text>\n",
       "\n",
       "<text class=\"displacy-token\" fill=\"currentColor\" text-anchor=\"middle\" y=\"422.0\">\n",
       "    <tspan class=\"displacy-word\" fill=\"currentColor\" x=\"2000\">大事</tspan>\n",
       "    <tspan class=\"displacy-tag\" dy=\"2em\" fill=\"currentColor\" x=\"2000\">ADJ</tspan>\n",
       "</text>\n",
       "\n",
       "<text class=\"displacy-token\" fill=\"currentColor\" text-anchor=\"middle\" y=\"422.0\">\n",
       "    <tspan class=\"displacy-word\" fill=\"currentColor\" x=\"2150\">に</tspan>\n",
       "    <tspan class=\"displacy-tag\" dy=\"2em\" fill=\"currentColor\" x=\"2150\">AUX</tspan>\n",
       "</text>\n",
       "\n",
       "<text class=\"displacy-token\" fill=\"currentColor\" text-anchor=\"middle\" y=\"422.0\">\n",
       "    <tspan class=\"displacy-word\" fill=\"currentColor\" x=\"2300\">する</tspan>\n",
       "    <tspan class=\"displacy-tag\" dy=\"2em\" fill=\"currentColor\" x=\"2300\">VERB</tspan>\n",
       "</text>\n",
       "\n",
       "<text class=\"displacy-token\" fill=\"currentColor\" text-anchor=\"middle\" y=\"422.0\">\n",
       "    <tspan class=\"displacy-word\" fill=\"currentColor\" x=\"2450\">もの</tspan>\n",
       "    <tspan class=\"displacy-tag\" dy=\"2em\" fill=\"currentColor\" x=\"2450\">NOUN</tspan>\n",
       "</text>\n",
       "\n",
       "<text class=\"displacy-token\" fill=\"currentColor\" text-anchor=\"middle\" y=\"422.0\">\n",
       "    <tspan class=\"displacy-word\" fill=\"currentColor\" x=\"2600\">か</tspan>\n",
       "    <tspan class=\"displacy-tag\" dy=\"2em\" fill=\"currentColor\" x=\"2600\">PART</tspan>\n",
       "</text>\n",
       "\n",
       "<g class=\"displacy-arrow\">\n",
       "    <path class=\"displacy-arc\" id=\"arrow-8ee67016a1ca42998fd02b11013d777d-0-0\" stroke-width=\"2px\" d=\"M62,377.0 62,327.0 341.0,327.0 341.0,377.0\" fill=\"none\" stroke=\"currentColor\"/>\n",
       "    <text dy=\"1.25em\" style=\"font-size: 0.8em; letter-spacing: 1px\">\n",
       "        <textPath xlink:href=\"#arrow-8ee67016a1ca42998fd02b11013d777d-0-0\" class=\"displacy-label\" startOffset=\"50%\" side=\"left\" fill=\"currentColor\" text-anchor=\"middle\">advcl</textPath>\n",
       "    </text>\n",
       "    <path class=\"displacy-arrowhead\" d=\"M62,379.0 L58,371.0 66,371.0\" fill=\"currentColor\"/>\n",
       "</g>\n",
       "\n",
       "<g class=\"displacy-arrow\">\n",
       "    <path class=\"displacy-arc\" id=\"arrow-8ee67016a1ca42998fd02b11013d777d-0-1\" stroke-width=\"2px\" d=\"M62,377.0 62,352.0 188.0,352.0 188.0,377.0\" fill=\"none\" stroke=\"currentColor\"/>\n",
       "    <text dy=\"1.25em\" style=\"font-size: 0.8em; letter-spacing: 1px\">\n",
       "        <textPath xlink:href=\"#arrow-8ee67016a1ca42998fd02b11013d777d-0-1\" class=\"displacy-label\" startOffset=\"50%\" side=\"left\" fill=\"currentColor\" text-anchor=\"middle\">aux</textPath>\n",
       "    </text>\n",
       "    <path class=\"displacy-arrowhead\" d=\"M188.0,379.0 L192.0,371.0 184.0,371.0\" fill=\"currentColor\"/>\n",
       "</g>\n",
       "\n",
       "<g class=\"displacy-arrow\">\n",
       "    <path class=\"displacy-arc\" id=\"arrow-8ee67016a1ca42998fd02b11013d777d-0-2\" stroke-width=\"2px\" d=\"M362,377.0 362,252.0 1100.0,252.0 1100.0,377.0\" fill=\"none\" stroke=\"currentColor\"/>\n",
       "    <text dy=\"1.25em\" style=\"font-size: 0.8em; letter-spacing: 1px\">\n",
       "        <textPath xlink:href=\"#arrow-8ee67016a1ca42998fd02b11013d777d-0-2\" class=\"displacy-label\" startOffset=\"50%\" side=\"left\" fill=\"currentColor\" text-anchor=\"middle\">acl</textPath>\n",
       "    </text>\n",
       "    <path class=\"displacy-arrowhead\" d=\"M362,379.0 L358,371.0 366,371.0\" fill=\"currentColor\"/>\n",
       "</g>\n",
       "\n",
       "<g class=\"displacy-arrow\">\n",
       "    <path class=\"displacy-arc\" id=\"arrow-8ee67016a1ca42998fd02b11013d777d-0-3\" stroke-width=\"2px\" d=\"M362,377.0 362,352.0 488.0,352.0 488.0,377.0\" fill=\"none\" stroke=\"currentColor\"/>\n",
       "    <text dy=\"1.25em\" style=\"font-size: 0.8em; letter-spacing: 1px\">\n",
       "        <textPath xlink:href=\"#arrow-8ee67016a1ca42998fd02b11013d777d-0-3\" class=\"displacy-label\" startOffset=\"50%\" side=\"left\" fill=\"currentColor\" text-anchor=\"middle\">aux</textPath>\n",
       "    </text>\n",
       "    <path class=\"displacy-arrowhead\" d=\"M488.0,379.0 L492.0,371.0 484.0,371.0\" fill=\"currentColor\"/>\n",
       "</g>\n",
       "\n",
       "<g class=\"displacy-arrow\">\n",
       "    <path class=\"displacy-arc\" id=\"arrow-8ee67016a1ca42998fd02b11013d777d-0-4\" stroke-width=\"2px\" d=\"M362,377.0 362,327.0 641.0,327.0 641.0,377.0\" fill=\"none\" stroke=\"currentColor\"/>\n",
       "    <text dy=\"1.25em\" style=\"font-size: 0.8em; letter-spacing: 1px\">\n",
       "        <textPath xlink:href=\"#arrow-8ee67016a1ca42998fd02b11013d777d-0-4\" class=\"displacy-label\" startOffset=\"50%\" side=\"left\" fill=\"currentColor\" text-anchor=\"middle\">aux</textPath>\n",
       "    </text>\n",
       "    <path class=\"displacy-arrowhead\" d=\"M641.0,379.0 L645.0,371.0 637.0,371.0\" fill=\"currentColor\"/>\n",
       "</g>\n",
       "\n",
       "<g class=\"displacy-arrow\">\n",
       "    <path class=\"displacy-arc\" id=\"arrow-8ee67016a1ca42998fd02b11013d777d-0-5\" stroke-width=\"2px\" d=\"M362,377.0 362,302.0 794.0,302.0 794.0,377.0\" fill=\"none\" stroke=\"currentColor\"/>\n",
       "    <text dy=\"1.25em\" style=\"font-size: 0.8em; letter-spacing: 1px\">\n",
       "        <textPath xlink:href=\"#arrow-8ee67016a1ca42998fd02b11013d777d-0-5\" class=\"displacy-label\" startOffset=\"50%\" side=\"left\" fill=\"currentColor\" text-anchor=\"middle\">aux</textPath>\n",
       "    </text>\n",
       "    <path class=\"displacy-arrowhead\" d=\"M794.0,379.0 L798.0,371.0 790.0,371.0\" fill=\"currentColor\"/>\n",
       "</g>\n",
       "\n",
       "<g class=\"displacy-arrow\">\n",
       "    <path class=\"displacy-arc\" id=\"arrow-8ee67016a1ca42998fd02b11013d777d-0-6\" stroke-width=\"2px\" d=\"M362,377.0 362,277.0 947.0,277.0 947.0,377.0\" fill=\"none\" stroke=\"currentColor\"/>\n",
       "    <text dy=\"1.25em\" style=\"font-size: 0.8em; letter-spacing: 1px\">\n",
       "        <textPath xlink:href=\"#arrow-8ee67016a1ca42998fd02b11013d777d-0-6\" class=\"displacy-label\" startOffset=\"50%\" side=\"left\" fill=\"currentColor\" text-anchor=\"middle\">aux</textPath>\n",
       "    </text>\n",
       "    <path class=\"displacy-arrowhead\" d=\"M947.0,379.0 L951.0,371.0 943.0,371.0\" fill=\"currentColor\"/>\n",
       "</g>\n",
       "\n",
       "<g class=\"displacy-arrow\">\n",
       "    <path class=\"displacy-arc\" id=\"arrow-8ee67016a1ca42998fd02b11013d777d-0-7\" stroke-width=\"2px\" d=\"M1112,377.0 1112,302.0 1544.0,302.0 1544.0,377.0\" fill=\"none\" stroke=\"currentColor\"/>\n",
       "    <text dy=\"1.25em\" style=\"font-size: 0.8em; letter-spacing: 1px\">\n",
       "        <textPath xlink:href=\"#arrow-8ee67016a1ca42998fd02b11013d777d-0-7\" class=\"displacy-label\" startOffset=\"50%\" side=\"left\" fill=\"currentColor\" text-anchor=\"middle\">nmod</textPath>\n",
       "    </text>\n",
       "    <path class=\"displacy-arrowhead\" d=\"M1112,379.0 L1108,371.0 1116,371.0\" fill=\"currentColor\"/>\n",
       "</g>\n",
       "\n",
       "<g class=\"displacy-arrow\">\n",
       "    <path class=\"displacy-arc\" id=\"arrow-8ee67016a1ca42998fd02b11013d777d-0-8\" stroke-width=\"2px\" d=\"M1112,377.0 1112,352.0 1238.0,352.0 1238.0,377.0\" fill=\"none\" stroke=\"currentColor\"/>\n",
       "    <text dy=\"1.25em\" style=\"font-size: 0.8em; letter-spacing: 1px\">\n",
       "        <textPath xlink:href=\"#arrow-8ee67016a1ca42998fd02b11013d777d-0-8\" class=\"displacy-label\" startOffset=\"50%\" side=\"left\" fill=\"currentColor\" text-anchor=\"middle\">case</textPath>\n",
       "    </text>\n",
       "    <path class=\"displacy-arrowhead\" d=\"M1238.0,379.0 L1242.0,371.0 1234.0,371.0\" fill=\"currentColor\"/>\n",
       "</g>\n",
       "\n",
       "<g class=\"displacy-arrow\">\n",
       "    <path class=\"displacy-arc\" id=\"arrow-8ee67016a1ca42998fd02b11013d777d-0-9\" stroke-width=\"2px\" d=\"M1112,377.0 1112,327.0 1391.0,327.0 1391.0,377.0\" fill=\"none\" stroke=\"currentColor\"/>\n",
       "    <text dy=\"1.25em\" style=\"font-size: 0.8em; letter-spacing: 1px\">\n",
       "        <textPath xlink:href=\"#arrow-8ee67016a1ca42998fd02b11013d777d-0-9\" class=\"displacy-label\" startOffset=\"50%\" side=\"left\" fill=\"currentColor\" text-anchor=\"middle\">case</textPath>\n",
       "    </text>\n",
       "    <path class=\"displacy-arrowhead\" d=\"M1391.0,379.0 L1395.0,371.0 1387.0,371.0\" fill=\"currentColor\"/>\n",
       "</g>\n",
       "\n",
       "<g class=\"displacy-arrow\">\n",
       "    <path class=\"displacy-arc\" id=\"arrow-8ee67016a1ca42998fd02b11013d777d-0-10\" stroke-width=\"2px\" d=\"M1562,377.0 1562,277.0 2297.0,277.0 2297.0,377.0\" fill=\"none\" stroke=\"currentColor\"/>\n",
       "    <text dy=\"1.25em\" style=\"font-size: 0.8em; letter-spacing: 1px\">\n",
       "        <textPath xlink:href=\"#arrow-8ee67016a1ca42998fd02b11013d777d-0-10\" class=\"displacy-label\" startOffset=\"50%\" side=\"left\" fill=\"currentColor\" text-anchor=\"middle\">obl</textPath>\n",
       "    </text>\n",
       "    <path class=\"displacy-arrowhead\" d=\"M1562,379.0 L1558,371.0 1566,371.0\" fill=\"currentColor\"/>\n",
       "</g>\n",
       "\n",
       "<g class=\"displacy-arrow\">\n",
       "    <path class=\"displacy-arc\" id=\"arrow-8ee67016a1ca42998fd02b11013d777d-0-11\" stroke-width=\"2px\" d=\"M1562,377.0 1562,352.0 1688.0,352.0 1688.0,377.0\" fill=\"none\" stroke=\"currentColor\"/>\n",
       "    <text dy=\"1.25em\" style=\"font-size: 0.8em; letter-spacing: 1px\">\n",
       "        <textPath xlink:href=\"#arrow-8ee67016a1ca42998fd02b11013d777d-0-11\" class=\"displacy-label\" startOffset=\"50%\" side=\"left\" fill=\"currentColor\" text-anchor=\"middle\">case</textPath>\n",
       "    </text>\n",
       "    <path class=\"displacy-arrowhead\" d=\"M1688.0,379.0 L1692.0,371.0 1684.0,371.0\" fill=\"currentColor\"/>\n",
       "</g>\n",
       "\n",
       "<g class=\"displacy-arrow\">\n",
       "    <path class=\"displacy-arc\" id=\"arrow-8ee67016a1ca42998fd02b11013d777d-0-12\" stroke-width=\"2px\" d=\"M1862,377.0 1862,302.0 2294.0,302.0 2294.0,377.0\" fill=\"none\" stroke=\"currentColor\"/>\n",
       "    <text dy=\"1.25em\" style=\"font-size: 0.8em; letter-spacing: 1px\">\n",
       "        <textPath xlink:href=\"#arrow-8ee67016a1ca42998fd02b11013d777d-0-12\" class=\"displacy-label\" startOffset=\"50%\" side=\"left\" fill=\"currentColor\" text-anchor=\"middle\">obl</textPath>\n",
       "    </text>\n",
       "    <path class=\"displacy-arrowhead\" d=\"M1862,379.0 L1858,371.0 1866,371.0\" fill=\"currentColor\"/>\n",
       "</g>\n",
       "\n",
       "<g class=\"displacy-arrow\">\n",
       "    <path class=\"displacy-arc\" id=\"arrow-8ee67016a1ca42998fd02b11013d777d-0-13\" stroke-width=\"2px\" d=\"M2012,377.0 2012,327.0 2291.0,327.0 2291.0,377.0\" fill=\"none\" stroke=\"currentColor\"/>\n",
       "    <text dy=\"1.25em\" style=\"font-size: 0.8em; letter-spacing: 1px\">\n",
       "        <textPath xlink:href=\"#arrow-8ee67016a1ca42998fd02b11013d777d-0-13\" class=\"displacy-label\" startOffset=\"50%\" side=\"left\" fill=\"currentColor\" text-anchor=\"middle\">advcl</textPath>\n",
       "    </text>\n",
       "    <path class=\"displacy-arrowhead\" d=\"M2012,379.0 L2008,371.0 2016,371.0\" fill=\"currentColor\"/>\n",
       "</g>\n",
       "\n",
       "<g class=\"displacy-arrow\">\n",
       "    <path class=\"displacy-arc\" id=\"arrow-8ee67016a1ca42998fd02b11013d777d-0-14\" stroke-width=\"2px\" d=\"M2012,377.0 2012,352.0 2138.0,352.0 2138.0,377.0\" fill=\"none\" stroke=\"currentColor\"/>\n",
       "    <text dy=\"1.25em\" style=\"font-size: 0.8em; letter-spacing: 1px\">\n",
       "        <textPath xlink:href=\"#arrow-8ee67016a1ca42998fd02b11013d777d-0-14\" class=\"displacy-label\" startOffset=\"50%\" side=\"left\" fill=\"currentColor\" text-anchor=\"middle\">aux</textPath>\n",
       "    </text>\n",
       "    <path class=\"displacy-arrowhead\" d=\"M2138.0,379.0 L2142.0,371.0 2134.0,371.0\" fill=\"currentColor\"/>\n",
       "</g>\n",
       "\n",
       "<g class=\"displacy-arrow\">\n",
       "    <path class=\"displacy-arc\" id=\"arrow-8ee67016a1ca42998fd02b11013d777d-0-15\" stroke-width=\"2px\" d=\"M2312,377.0 2312,352.0 2438.0,352.0 2438.0,377.0\" fill=\"none\" stroke=\"currentColor\"/>\n",
       "    <text dy=\"1.25em\" style=\"font-size: 0.8em; letter-spacing: 1px\">\n",
       "        <textPath xlink:href=\"#arrow-8ee67016a1ca42998fd02b11013d777d-0-15\" class=\"displacy-label\" startOffset=\"50%\" side=\"left\" fill=\"currentColor\" text-anchor=\"middle\">acl</textPath>\n",
       "    </text>\n",
       "    <path class=\"displacy-arrowhead\" d=\"M2312,379.0 L2308,371.0 2316,371.0\" fill=\"currentColor\"/>\n",
       "</g>\n",
       "\n",
       "<g class=\"displacy-arrow\">\n",
       "    <path class=\"displacy-arc\" id=\"arrow-8ee67016a1ca42998fd02b11013d777d-0-16\" stroke-width=\"2px\" d=\"M2462,377.0 2462,352.0 2588.0,352.0 2588.0,377.0\" fill=\"none\" stroke=\"currentColor\"/>\n",
       "    <text dy=\"1.25em\" style=\"font-size: 0.8em; letter-spacing: 1px\">\n",
       "        <textPath xlink:href=\"#arrow-8ee67016a1ca42998fd02b11013d777d-0-16\" class=\"displacy-label\" startOffset=\"50%\" side=\"left\" fill=\"currentColor\" text-anchor=\"middle\">mark</textPath>\n",
       "    </text>\n",
       "    <path class=\"displacy-arrowhead\" d=\"M2588.0,379.0 L2592.0,371.0 2584.0,371.0\" fill=\"currentColor\"/>\n",
       "</g>\n",
       "</svg></span>"
      ],
      "text/plain": [
       "<IPython.core.display.HTML object>"
      ]
     },
     "metadata": {},
     "output_type": "display_data"
    }
   ],
   "source": [
    "# 挙動確認（品詞の依存関係）\n",
    "from spacy import displacy\n",
    "displacy.render(doc, style=\"dep\", options={\"compact\":True})"
   ]
  },
  {
   "cell_type": "code",
   "execution_count": 23,
   "id": "94f42155-29ae-4271-b508-8bcbd03937e6",
   "metadata": {},
   "outputs": [],
   "source": [
    "# 名詞数を入れるリスト\n",
    "all_noun_count = []\n",
    "\n",
    "for sentence in train[\"text\"]:\n",
    "    doc = nlp(sentence)\n",
    "\n",
    "    # 一文の名詞数を入れるリスト\n",
    "    noun_count = []\n",
    "\n",
    "    for token in doc:\n",
    "        if token.pos_ == \"NOUN\":\n",
    "            noun_count.append(token.text)\n",
    "    all_noun_count.append(len(noun_count))"
   ]
  },
  {
   "cell_type": "code",
   "execution_count": 24,
   "id": "e305c793-fb2f-4747-9a5e-9878a355b3ba",
   "metadata": {
    "tags": []
   },
   "outputs": [
    {
     "data": {
      "text/html": [
       "<div>\n",
       "<style scoped>\n",
       "    .dataframe tbody tr th:only-of-type {\n",
       "        vertical-align: middle;\n",
       "    }\n",
       "\n",
       "    .dataframe tbody tr th {\n",
       "        vertical-align: top;\n",
       "    }\n",
       "\n",
       "    .dataframe thead th {\n",
       "        text-align: right;\n",
       "    }\n",
       "</style>\n",
       "<table border=\"1\" class=\"dataframe\">\n",
       "  <thead>\n",
       "    <tr style=\"text-align: right;\">\n",
       "      <th></th>\n",
       "      <th>id</th>\n",
       "      <th>source</th>\n",
       "      <th>text</th>\n",
       "      <th>label</th>\n",
       "      <th>char_num</th>\n",
       "      <th>text_owakachi</th>\n",
       "      <th>word_num</th>\n",
       "      <th>noun_num</th>\n",
       "    </tr>\n",
       "  </thead>\n",
       "  <tbody>\n",
       "    <tr>\n",
       "      <th>0</th>\n",
       "      <td>80074aa43</td>\n",
       "      <td>news4vip</td>\n",
       "      <td>まともに相手されてない人との関係なんてそんな大事にするものか</td>\n",
       "      <td>0</td>\n",
       "      <td>30</td>\n",
       "      <td>まとも に 相手 さ れ て ない 人 と の 関係 なんて そんな 大事 に する もの ...</td>\n",
       "      <td>18</td>\n",
       "      <td>4</td>\n",
       "    </tr>\n",
       "    <tr>\n",
       "      <th>1</th>\n",
       "      <td>6378fea6b</td>\n",
       "      <td>livejupiter</td>\n",
       "      <td>最近はアヘアヘ マンやない ｲｲ∀   ｲｸﾅｲ</td>\n",
       "      <td>0</td>\n",
       "      <td>24</td>\n",
       "      <td>最近 は アヘアヘ マン や ない   ｲｲ ∀ ｲｸﾅｲ \\n</td>\n",
       "      <td>9</td>\n",
       "      <td>3</td>\n",
       "    </tr>\n",
       "    <tr>\n",
       "      <th>2</th>\n",
       "      <td>c535f5613</td>\n",
       "      <td>livejupiter</td>\n",
       "      <td>日本人として生まれても無能な低学歴って分かったら日本人の権利剥奪して追放すべきやろ甘えるな</td>\n",
       "      <td>1</td>\n",
       "      <td>45</td>\n",
       "      <td>日本 人 と し て 生まれ て も 無能 な 低 学歴 って 分かっ たら 日本 人 の ...</td>\n",
       "      <td>28</td>\n",
       "      <td>5</td>\n",
       "    </tr>\n",
       "  </tbody>\n",
       "</table>\n",
       "</div>"
      ],
      "text/plain": [
       "          id       source                                           text  \\\n",
       "0  80074aa43     news4vip                 まともに相手されてない人との関係なんてそんな大事にするものか   \n",
       "1  6378fea6b  livejupiter                       最近はアヘアヘ マンやない ｲｲ∀   ｲｸﾅｲ   \n",
       "2  c535f5613  livejupiter  日本人として生まれても無能な低学歴って分かったら日本人の権利剥奪して追放すべきやろ甘えるな   \n",
       "\n",
       "   label  char_num                                      text_owakachi  \\\n",
       "0      0        30  まとも に 相手 さ れ て ない 人 と の 関係 なんて そんな 大事 に する もの ...   \n",
       "1      0        24                   最近 は アヘアヘ マン や ない   ｲｲ ∀ ｲｸﾅｲ \\n   \n",
       "2      1        45  日本 人 と し て 生まれ て も 無能 な 低 学歴 って 分かっ たら 日本 人 の ...   \n",
       "\n",
       "   word_num  noun_num  \n",
       "0        18         4  \n",
       "1         9         3  \n",
       "2        28         5  "
      ]
     },
     "execution_count": 24,
     "metadata": {},
     "output_type": "execute_result"
    }
   ],
   "source": [
    "train[\"noun_num\"] = all_noun_count\n",
    "train.head(3)"
   ]
  },
  {
   "cell_type": "markdown",
   "id": "9cb4549c-457d-4d79-88b2-a8cc5a1e1c44",
   "metadata": {},
   "source": [
    "### ヒストグラム（名詞数、label）"
   ]
  },
  {
   "cell_type": "code",
   "execution_count": 25,
   "id": "77eb53ed-74c3-405d-8bee-bb0eabebf960",
   "metadata": {},
   "outputs": [
    {
     "data": {
      "image/png": "[encoded data removed]",
      "text/plain": [
       "<Figure size 432x288 with 1 Axes>"
      ]
     },
     "metadata": {
      "needs_background": "light"
     },
     "output_type": "display_data"
    }
   ],
   "source": [
    "plt.hist(train[train[\"label\"]==0][\"noun_num\"], alpha = 0.5, label=\"label=0\")\n",
    "plt.hist(train[train[\"label\"]==1][\"noun_num\"], alpha = 0.5, label=\"label=1\")\n",
    "plt.legend(loc=\"upper right\")\n",
    "plt.title(\"Number of nouns\")\n",
    "\n",
    "plt.show()"
   ]
  },
  {
   "cell_type": "markdown",
   "id": "d2566da6-b616-424c-8cd1-cac6adf94740",
   "metadata": {},
   "source": [
    "### 頻出名詞ランキング"
   ]
  },
  {
   "cell_type": "markdown",
   "id": "668579b5-9116-437b-b778-4a77322d1c08",
   "metadata": {},
   "source": [
    "#### ヘイト文"
   ]
  },
  {
   "cell_type": "code",
   "execution_count": 26,
   "id": "4e065037-1d61-4652-b2c5-d37e636a1f0e",
   "metadata": {},
   "outputs": [
    {
     "data": {
      "image/png": "[encoded data removed]",
      "text/plain": [
       "<Figure size 1296x576 with 1 Axes>"
      ]
     },
     "metadata": {
      "needs_background": "light"
     },
     "output_type": "display_data"
    }
   ],
   "source": [
    "all_hate_noun = []\n",
    "\n",
    "for sentence in train[train[\"label\"] == 1][\"text\"]:\n",
    "    doc = nlp(sentence)\n",
    "    for token in doc:\n",
    "        if token.pos_ == \"NOUN\":\n",
    "            all_hate_noun.append(token.text)\n",
    "\n",
    "df = pd.DataFrame(Counter(all_hate_noun).most_common(25), columns= ['Noun', 'Frequency'])\n",
    "\n",
    "sns.set_context('notebook', font_scale= 1.3)\n",
    "plt.figure(figsize=(18,8))\n",
    "sns.barplot(y = df['Noun'], x= df['Frequency'], palette= 'summer')\n",
    "plt.title(\"Most Commonly Used Hate Nouns\")\n",
    "plt.xlabel(\"Frequnecy\")\n",
    "plt.ylabel(\"Hate Nouns\")\n",
    "plt.show()"
   ]
  },
  {
   "cell_type": "markdown",
   "id": "fcbe4be0-2ec9-48ab-b63d-4f95da7579b6",
   "metadata": {},
   "source": [
    "#### 非ヘイト文"
   ]
  },
  {
   "cell_type": "code",
   "execution_count": 27,
   "id": "3afc351b-079f-48d4-8d4c-75f9b75a95b9",
   "metadata": {},
   "outputs": [
    {
     "data": {
      "image/png": "[encoded data removed]",
      "text/plain": [
       "<Figure size 1296x576 with 1 Axes>"
      ]
     },
     "metadata": {
      "needs_background": "light"
     },
     "output_type": "display_data"
    }
   ],
   "source": [
    "all_non_hate_noun = []\n",
    "\n",
    "\n",
    "for sentence in train[train[\"label\"] == 0][\"text\"]:\n",
    "    doc = nlp(sentence)\n",
    "    for token in doc:\n",
    "        if token.pos_ == \"NOUN\":\n",
    "            all_non_hate_noun.append(token.text)\n",
    "    \n",
    "df = pd.DataFrame(Counter(all_non_hate_noun).most_common(25), columns= ['Noun', 'Frequency'])\n",
    "\n",
    "sns.set_context('notebook', font_scale= 1.3)\n",
    "plt.figure(figsize=(18,8))\n",
    "sns.barplot(y = df['Noun'], x= df['Frequency'], palette= 'summer')\n",
    "plt.title(\"Most Commonly Used Non Hate Nouns\")\n",
    "plt.xlabel(\"Frequnecy\")\n",
    "plt.ylabel(\"Non Hate Nouns\")\n",
    "plt.show()"
   ]
  },
  {
   "cell_type": "code",
   "execution_count": null,
   "id": "8f79f657-a5ea-490b-9cb6-bc02e851ecbb",
   "metadata": {},
   "outputs": [],
   "source": []
  },
  {
   "cell_type": "code",
   "execution_count": null,
   "id": "b4005bdb-d00f-428d-a253-dc82cfaad6cc",
   "metadata": {},
   "outputs": [],
   "source": []
  },
  {
   "cell_type": "code",
   "execution_count": null,
   "id": "ad3fa4ee-b3a2-4db3-8857-949807d6c903",
   "metadata": {},
   "outputs": [],
   "source": []
  },
  {
   "cell_type": "code",
   "execution_count": null,
   "id": "bff07358-ea7a-4b0f-8acc-8d22b0d99ffa",
   "metadata": {},
   "outputs": [],
   "source": []
  },
  {
   "cell_type": "code",
   "execution_count": null,
   "id": "9baabb6b-7848-418a-a339-45e715c3b13e",
   "metadata": {},
   "outputs": [],
   "source": []
  }
 ],
 "metadata": {
  "kernelspec": {
   "display_name": "Python 3 (ipykernel)",
   "language": "python",
   "name": "python3"
  },
  "language_info": {
   "codemirror_mode": {
    "name": "ipython",
    "version": 3
   },
   "file_extension": ".py",
   "mimetype": "text/x-python",
   "name": "python",
   "nbconvert_exporter": "python",
   "pygments_lexer": "ipython3",
   "version": "3.9.13"
  }
 },
 "nbformat": 4,
 "nbformat_minor": 5
}
